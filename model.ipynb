{
 "cells": [
  {
   "cell_type": "code",
   "execution_count": 105,
   "metadata": {},
   "outputs": [],
   "source": [
    "import pandas as pd\n",
    "import numpy as np\n",
    "import matplotlib.pyplot as plt\n",
    "import sklearn\n",
    "\n",
    "df_train = pd.read_csv('data/train_data.csv')\n",
    "df_test = pd.read_csv('data/test_data.csv')\n",
    "X_train = df_train.drop('y', axis=1)\n",
    "y_train = df_train['y']\n",
    "X_test = df_test.drop('y', axis=1)\n",
    "y_test = df_test['y']\n"
   ]
  },
  {
   "attachments": {},
   "cell_type": "markdown",
   "metadata": {},
   "source": [
    "# `1 - Logistic regression`"
   ]
  },
  {
   "cell_type": "code",
   "execution_count": 58,
   "metadata": {},
   "outputs": [
    {
     "name": "stderr",
     "output_type": "stream",
     "text": [
      "/opt/miniconda3/lib/python3.9/site-packages/sklearn/model_selection/_validation.py:378: FitFailedWarning: \n",
      "20 fits failed out of a total of 40.\n",
      "The score on these train-test partitions for these parameters will be set to nan.\n",
      "If these failures are not expected, you can try to debug them by setting error_score='raise'.\n",
      "\n",
      "Below are more details about the failures:\n",
      "--------------------------------------------------------------------------------\n",
      "20 fits failed with the following error:\n",
      "Traceback (most recent call last):\n",
      "  File \"/opt/miniconda3/lib/python3.9/site-packages/sklearn/model_selection/_validation.py\", line 686, in _fit_and_score\n",
      "    estimator.fit(X_train, y_train, **fit_params)\n",
      "  File \"/opt/miniconda3/lib/python3.9/site-packages/sklearn/linear_model/_logistic.py\", line 1091, in fit\n",
      "    solver = _check_solver(self.solver, self.penalty, self.dual)\n",
      "  File \"/opt/miniconda3/lib/python3.9/site-packages/sklearn/linear_model/_logistic.py\", line 61, in _check_solver\n",
      "    raise ValueError(\n",
      "ValueError: Solver lbfgs supports only 'l2' or 'none' penalties, got l1 penalty.\n",
      "\n",
      "  warnings.warn(some_fits_failed_message, FitFailedWarning)\n",
      "/opt/miniconda3/lib/python3.9/site-packages/sklearn/model_selection/_search.py:953: UserWarning: One or more of the test scores are non-finite: [       nan 0.80720973        nan 0.83763262        nan 0.84556917\n",
      "        nan 0.84490771]\n",
      "  warnings.warn(\n"
     ]
    },
    {
     "name": "stdout",
     "output_type": "stream",
     "text": [
      "Best parameters: {'C': 10, 'max_iter': 50000, 'penalty': 'l2'}\n",
      "Best score: 0.8455691727336511\n"
     ]
    }
   ],
   "source": [
    "from sklearn.linear_model import LogisticRegression\n",
    "from sklearn.model_selection import GridSearchCV\n",
    "\n",
    "model = LogisticRegression(n_jobs=-1)\n",
    "param_grid = {'C': [0.1, 1, 10, 100], 'penalty': ['l1', 'l2'], 'max_iter': [50000]}\n",
    "\n",
    "# create the grid search object\n",
    "grid_search = GridSearchCV(estimator=model, param_grid=param_grid, cv=5)\n",
    "# fit the grid search object to the data\n",
    "grid_search.fit(X_train, y_train)\n",
    "print(\"Best parameters:\", grid_search.best_params_)\n",
    "print(\"Best score:\", grid_search.best_score_)\n",
    "best_LR = grid_search.best_estimator_"
   ]
  },
  {
   "attachments": {},
   "cell_type": "markdown",
   "metadata": {},
   "source": [
    "# `2 - KNN`"
   ]
  },
  {
   "attachments": {},
   "cell_type": "markdown",
   "metadata": {},
   "source": [
    "## a. Select the best K value"
   ]
  },
  {
   "cell_type": "code",
   "execution_count": 54,
   "metadata": {},
   "outputs": [
    {
     "name": "stdout",
     "output_type": "stream",
     "text": [
      "Best parameters: {'n_neighbors': 1, 'p': 1, 'weights': 'uniform'}\n",
      "Best cross-validation score: 0.9379426620621368\n"
     ]
    }
   ],
   "source": [
    "from sklearn.model_selection import GridSearchCV\n",
    "from sklearn.neighbors import KNeighborsClassifier\n",
    "\n",
    "knn = KNeighborsClassifier()\n",
    "param_grid = {'n_neighbors': [1, 2, 3, 5, 7, 9, 11], 'weights': [\n",
    "    'uniform', 'distance'], 'p': [1, 2, 5, 10, 20]}\n",
    "grid_search = GridSearchCV(knn, param_grid, cv=5)\n",
    "grid_search.fit(X_train, y_train)\n",
    "print(\"Best parameters:\", grid_search.best_params_)\n",
    "print(\"Best cross-validation score:\", grid_search.best_score_)\n",
    "best_knn = grid_search.best_estimator_\n"
   ]
  },
  {
   "attachments": {},
   "cell_type": "markdown",
   "metadata": {},
   "source": [
    "# ` 3 - XgBoost `"
   ]
  },
  {
   "attachments": {},
   "cell_type": "markdown",
   "metadata": {},
   "source": [
    "Grid search is infeasible, I will use random serach"
   ]
  },
  {
   "cell_type": "code",
   "execution_count": 55,
   "metadata": {},
   "outputs": [
    {
     "name": "stdout",
     "output_type": "stream",
     "text": [
      "Best parameters: {'subsample': 0.7, 'reg_lambda': 0, 'reg_alpha': 0, 'n_estimators': 300, 'max_depth': 25, 'learning_rate': 0.1, 'colsample_bytree': 0.8, 'colsample_bylevel': 0.9}\n",
      "Best cross-validation score: 0.9635149328303584\n"
     ]
    }
   ],
   "source": [
    "from sklearn.model_selection import RandomizedSearchCV\n",
    "from xgboost import XGBClassifier\n",
    "xgb_model = XGBClassifier()\n",
    "# define the parameter grid for the randomized search\n",
    "param_grid = {\n",
    "    'learning_rate': [0.1, 0.2, 0.3],\n",
    "    'max_depth': [3, 4, 5, 7, 10, 15, 20, 25, 30],\n",
    "    'n_estimators': [100, 200, 300, 400, 500],\n",
    "    'subsample': [0.5, 0.6, 0.7, 0.8, 0.9],\n",
    "    'colsample_bytree': [0.5, 0.6, 0.7, 0.8, 0.9],\n",
    "    'colsample_bylevel': [0.5, 0.6, 0.7, 0.8, 0.9],\n",
    "    'reg_alpha': [0, 0.001, 0.005, 0.01, 0.05],\n",
    "    'reg_lambda': [0, 0.001, 0.005, 0.01, 0.05]\n",
    "}\n",
    "\n",
    "random_search = RandomizedSearchCV(xgb_model, param_grid, cv=5, n_iter=50, random_state=42)\n",
    "random_search.fit(X_train, y_train)\n",
    "print(\"Best parameters:\", random_search.best_params_)\n",
    "print(\"Best cross-validation score:\", random_search.best_score_)\n",
    "best_xgb = random_search.best_estimator_"
   ]
  },
  {
   "attachments": {},
   "cell_type": "markdown",
   "metadata": {},
   "source": [
    "# `4 - Test results`"
   ]
  },
  {
   "cell_type": "code",
   "execution_count": 64,
   "metadata": {},
   "outputs": [],
   "source": [
    "from sklearn.metrics import f1_score, matthews_corrcoef, accuracy_score, confusion_matrix, ConfusionMatrixDisplay\n",
    "from imblearn.metrics import geometric_mean_score as gmean\n",
    "models = [best_LR, best_knn, best_xgb]\n",
    "metrics = ['F1 (macro)', 'F1 (weighted)', 'MCC', 'G-mean', 'Accuracy']\n",
    "results = {}\n",
    "\n",
    "for model in models:\n",
    "    y_pred = model.predict(X_test)\n",
    "    \n",
    "    f1_macro = f1_score(y_test, y_pred, average='macro')\n",
    "    f1_weighted = f1_score(y_test, y_pred, average='weighted')\n",
    "    mcc = matthews_corrcoef(y_test, y_pred)\n",
    "    geo_mean = gmean(y_test, y_pred)\n",
    "    accuracy = accuracy_score(y_test, y_pred)\n",
    "    \n",
    "    results[model] = {\n",
    "        'F1 (macro)': f1_macro,\n",
    "        'F1 (weighted)': f1_weighted,\n",
    "        'MCC': mcc,\n",
    "        'G-mean': geo_mean,\n",
    "        'Accuracy': accuracy\n",
    "    }"
   ]
  },
  {
   "cell_type": "code",
   "execution_count": 80,
   "metadata": {},
   "outputs": [
    {
     "data": {
      "application/vnd.plotly.v1+json": {
       "config": {
        "plotlyServerURL": "https://plot.ly"
       },
       "data": [
        {
         "name": "F1 (macro)",
         "text": [
          "0.7336187459861518",
          "0.8095758990319512",
          "0.9234007049650019"
         ],
         "textposition": "auto",
         "type": "bar",
         "x": [
          "LogisticRegression",
          "KNeighborsClassifier",
          "XGBClassifier"
         ],
         "y": [
          0.7336187459861518,
          0.8095758990319512,
          0.9234007049650019
         ]
        },
        {
         "name": "F1 (weighted)",
         "text": [
          "0.8108811140203699",
          "0.8613389388763433",
          "0.9443837723696168"
         ],
         "textposition": "auto",
         "type": "bar",
         "x": [
          "LogisticRegression",
          "KNeighborsClassifier",
          "XGBClassifier"
         ],
         "y": [
          0.8108811140203699,
          0.8613389388763433,
          0.9443837723696168
         ]
        },
        {
         "name": "MCC",
         "text": [
          "0.7571103946248904",
          "0.8267333803612119",
          "0.9299170537310271"
         ],
         "textposition": "auto",
         "type": "bar",
         "x": [
          "LogisticRegression",
          "KNeighborsClassifier",
          "XGBClassifier"
         ],
         "y": [
          0.7571103946248904,
          0.8267333803612119,
          0.9299170537310271
         ]
        },
        {
         "name": "G-mean",
         "text": [
          "0.8230629833809516",
          "0.824061139836041",
          "0.9254705451889537"
         ],
         "textposition": "auto",
         "type": "bar",
         "x": [
          "LogisticRegression",
          "KNeighborsClassifier",
          "XGBClassifier"
         ],
         "y": [
          0.8230629833809516,
          0.824061139836041,
          0.9254705451889537
         ]
        },
        {
         "name": "Accuracy",
         "text": [
          "0.8023529411764706",
          "0.8611764705882353",
          "0.9443137254901961"
         ],
         "textposition": "auto",
         "type": "bar",
         "x": [
          "LogisticRegression",
          "KNeighborsClassifier",
          "XGBClassifier"
         ],
         "y": [
          0.8023529411764706,
          0.8611764705882353,
          0.9443137254901961
         ]
        }
       ],
       "layout": {
        "barmode": "group",
        "template": {
         "data": {
          "bar": [
           {
            "error_x": {
             "color": "#2a3f5f"
            },
            "error_y": {
             "color": "#2a3f5f"
            },
            "marker": {
             "line": {
              "color": "#E5ECF6",
              "width": 0.5
             },
             "pattern": {
              "fillmode": "overlay",
              "size": 10,
              "solidity": 0.2
             }
            },
            "type": "bar"
           }
          ],
          "barpolar": [
           {
            "marker": {
             "line": {
              "color": "#E5ECF6",
              "width": 0.5
             },
             "pattern": {
              "fillmode": "overlay",
              "size": 10,
              "solidity": 0.2
             }
            },
            "type": "barpolar"
           }
          ],
          "carpet": [
           {
            "aaxis": {
             "endlinecolor": "#2a3f5f",
             "gridcolor": "white",
             "linecolor": "white",
             "minorgridcolor": "white",
             "startlinecolor": "#2a3f5f"
            },
            "baxis": {
             "endlinecolor": "#2a3f5f",
             "gridcolor": "white",
             "linecolor": "white",
             "minorgridcolor": "white",
             "startlinecolor": "#2a3f5f"
            },
            "type": "carpet"
           }
          ],
          "choropleth": [
           {
            "colorbar": {
             "outlinewidth": 0,
             "ticks": ""
            },
            "type": "choropleth"
           }
          ],
          "contour": [
           {
            "colorbar": {
             "outlinewidth": 0,
             "ticks": ""
            },
            "colorscale": [
             [
              0,
              "#0d0887"
             ],
             [
              0.1111111111111111,
              "#46039f"
             ],
             [
              0.2222222222222222,
              "#7201a8"
             ],
             [
              0.3333333333333333,
              "#9c179e"
             ],
             [
              0.4444444444444444,
              "#bd3786"
             ],
             [
              0.5555555555555556,
              "#d8576b"
             ],
             [
              0.6666666666666666,
              "#ed7953"
             ],
             [
              0.7777777777777778,
              "#fb9f3a"
             ],
             [
              0.8888888888888888,
              "#fdca26"
             ],
             [
              1,
              "#f0f921"
             ]
            ],
            "type": "contour"
           }
          ],
          "contourcarpet": [
           {
            "colorbar": {
             "outlinewidth": 0,
             "ticks": ""
            },
            "type": "contourcarpet"
           }
          ],
          "heatmap": [
           {
            "colorbar": {
             "outlinewidth": 0,
             "ticks": ""
            },
            "colorscale": [
             [
              0,
              "#0d0887"
             ],
             [
              0.1111111111111111,
              "#46039f"
             ],
             [
              0.2222222222222222,
              "#7201a8"
             ],
             [
              0.3333333333333333,
              "#9c179e"
             ],
             [
              0.4444444444444444,
              "#bd3786"
             ],
             [
              0.5555555555555556,
              "#d8576b"
             ],
             [
              0.6666666666666666,
              "#ed7953"
             ],
             [
              0.7777777777777778,
              "#fb9f3a"
             ],
             [
              0.8888888888888888,
              "#fdca26"
             ],
             [
              1,
              "#f0f921"
             ]
            ],
            "type": "heatmap"
           }
          ],
          "heatmapgl": [
           {
            "colorbar": {
             "outlinewidth": 0,
             "ticks": ""
            },
            "colorscale": [
             [
              0,
              "#0d0887"
             ],
             [
              0.1111111111111111,
              "#46039f"
             ],
             [
              0.2222222222222222,
              "#7201a8"
             ],
             [
              0.3333333333333333,
              "#9c179e"
             ],
             [
              0.4444444444444444,
              "#bd3786"
             ],
             [
              0.5555555555555556,
              "#d8576b"
             ],
             [
              0.6666666666666666,
              "#ed7953"
             ],
             [
              0.7777777777777778,
              "#fb9f3a"
             ],
             [
              0.8888888888888888,
              "#fdca26"
             ],
             [
              1,
              "#f0f921"
             ]
            ],
            "type": "heatmapgl"
           }
          ],
          "histogram": [
           {
            "marker": {
             "pattern": {
              "fillmode": "overlay",
              "size": 10,
              "solidity": 0.2
             }
            },
            "type": "histogram"
           }
          ],
          "histogram2d": [
           {
            "colorbar": {
             "outlinewidth": 0,
             "ticks": ""
            },
            "colorscale": [
             [
              0,
              "#0d0887"
             ],
             [
              0.1111111111111111,
              "#46039f"
             ],
             [
              0.2222222222222222,
              "#7201a8"
             ],
             [
              0.3333333333333333,
              "#9c179e"
             ],
             [
              0.4444444444444444,
              "#bd3786"
             ],
             [
              0.5555555555555556,
              "#d8576b"
             ],
             [
              0.6666666666666666,
              "#ed7953"
             ],
             [
              0.7777777777777778,
              "#fb9f3a"
             ],
             [
              0.8888888888888888,
              "#fdca26"
             ],
             [
              1,
              "#f0f921"
             ]
            ],
            "type": "histogram2d"
           }
          ],
          "histogram2dcontour": [
           {
            "colorbar": {
             "outlinewidth": 0,
             "ticks": ""
            },
            "colorscale": [
             [
              0,
              "#0d0887"
             ],
             [
              0.1111111111111111,
              "#46039f"
             ],
             [
              0.2222222222222222,
              "#7201a8"
             ],
             [
              0.3333333333333333,
              "#9c179e"
             ],
             [
              0.4444444444444444,
              "#bd3786"
             ],
             [
              0.5555555555555556,
              "#d8576b"
             ],
             [
              0.6666666666666666,
              "#ed7953"
             ],
             [
              0.7777777777777778,
              "#fb9f3a"
             ],
             [
              0.8888888888888888,
              "#fdca26"
             ],
             [
              1,
              "#f0f921"
             ]
            ],
            "type": "histogram2dcontour"
           }
          ],
          "mesh3d": [
           {
            "colorbar": {
             "outlinewidth": 0,
             "ticks": ""
            },
            "type": "mesh3d"
           }
          ],
          "parcoords": [
           {
            "line": {
             "colorbar": {
              "outlinewidth": 0,
              "ticks": ""
             }
            },
            "type": "parcoords"
           }
          ],
          "pie": [
           {
            "automargin": true,
            "type": "pie"
           }
          ],
          "scatter": [
           {
            "fillpattern": {
             "fillmode": "overlay",
             "size": 10,
             "solidity": 0.2
            },
            "type": "scatter"
           }
          ],
          "scatter3d": [
           {
            "line": {
             "colorbar": {
              "outlinewidth": 0,
              "ticks": ""
             }
            },
            "marker": {
             "colorbar": {
              "outlinewidth": 0,
              "ticks": ""
             }
            },
            "type": "scatter3d"
           }
          ],
          "scattercarpet": [
           {
            "marker": {
             "colorbar": {
              "outlinewidth": 0,
              "ticks": ""
             }
            },
            "type": "scattercarpet"
           }
          ],
          "scattergeo": [
           {
            "marker": {
             "colorbar": {
              "outlinewidth": 0,
              "ticks": ""
             }
            },
            "type": "scattergeo"
           }
          ],
          "scattergl": [
           {
            "marker": {
             "colorbar": {
              "outlinewidth": 0,
              "ticks": ""
             }
            },
            "type": "scattergl"
           }
          ],
          "scattermapbox": [
           {
            "marker": {
             "colorbar": {
              "outlinewidth": 0,
              "ticks": ""
             }
            },
            "type": "scattermapbox"
           }
          ],
          "scatterpolar": [
           {
            "marker": {
             "colorbar": {
              "outlinewidth": 0,
              "ticks": ""
             }
            },
            "type": "scatterpolar"
           }
          ],
          "scatterpolargl": [
           {
            "marker": {
             "colorbar": {
              "outlinewidth": 0,
              "ticks": ""
             }
            },
            "type": "scatterpolargl"
           }
          ],
          "scatterternary": [
           {
            "marker": {
             "colorbar": {
              "outlinewidth": 0,
              "ticks": ""
             }
            },
            "type": "scatterternary"
           }
          ],
          "surface": [
           {
            "colorbar": {
             "outlinewidth": 0,
             "ticks": ""
            },
            "colorscale": [
             [
              0,
              "#0d0887"
             ],
             [
              0.1111111111111111,
              "#46039f"
             ],
             [
              0.2222222222222222,
              "#7201a8"
             ],
             [
              0.3333333333333333,
              "#9c179e"
             ],
             [
              0.4444444444444444,
              "#bd3786"
             ],
             [
              0.5555555555555556,
              "#d8576b"
             ],
             [
              0.6666666666666666,
              "#ed7953"
             ],
             [
              0.7777777777777778,
              "#fb9f3a"
             ],
             [
              0.8888888888888888,
              "#fdca26"
             ],
             [
              1,
              "#f0f921"
             ]
            ],
            "type": "surface"
           }
          ],
          "table": [
           {
            "cells": {
             "fill": {
              "color": "#EBF0F8"
             },
             "line": {
              "color": "white"
             }
            },
            "header": {
             "fill": {
              "color": "#C8D4E3"
             },
             "line": {
              "color": "white"
             }
            },
            "type": "table"
           }
          ]
         },
         "layout": {
          "annotationdefaults": {
           "arrowcolor": "#2a3f5f",
           "arrowhead": 0,
           "arrowwidth": 1
          },
          "autotypenumbers": "strict",
          "coloraxis": {
           "colorbar": {
            "outlinewidth": 0,
            "ticks": ""
           }
          },
          "colorscale": {
           "diverging": [
            [
             0,
             "#8e0152"
            ],
            [
             0.1,
             "#c51b7d"
            ],
            [
             0.2,
             "#de77ae"
            ],
            [
             0.3,
             "#f1b6da"
            ],
            [
             0.4,
             "#fde0ef"
            ],
            [
             0.5,
             "#f7f7f7"
            ],
            [
             0.6,
             "#e6f5d0"
            ],
            [
             0.7,
             "#b8e186"
            ],
            [
             0.8,
             "#7fbc41"
            ],
            [
             0.9,
             "#4d9221"
            ],
            [
             1,
             "#276419"
            ]
           ],
           "sequential": [
            [
             0,
             "#0d0887"
            ],
            [
             0.1111111111111111,
             "#46039f"
            ],
            [
             0.2222222222222222,
             "#7201a8"
            ],
            [
             0.3333333333333333,
             "#9c179e"
            ],
            [
             0.4444444444444444,
             "#bd3786"
            ],
            [
             0.5555555555555556,
             "#d8576b"
            ],
            [
             0.6666666666666666,
             "#ed7953"
            ],
            [
             0.7777777777777778,
             "#fb9f3a"
            ],
            [
             0.8888888888888888,
             "#fdca26"
            ],
            [
             1,
             "#f0f921"
            ]
           ],
           "sequentialminus": [
            [
             0,
             "#0d0887"
            ],
            [
             0.1111111111111111,
             "#46039f"
            ],
            [
             0.2222222222222222,
             "#7201a8"
            ],
            [
             0.3333333333333333,
             "#9c179e"
            ],
            [
             0.4444444444444444,
             "#bd3786"
            ],
            [
             0.5555555555555556,
             "#d8576b"
            ],
            [
             0.6666666666666666,
             "#ed7953"
            ],
            [
             0.7777777777777778,
             "#fb9f3a"
            ],
            [
             0.8888888888888888,
             "#fdca26"
            ],
            [
             1,
             "#f0f921"
            ]
           ]
          },
          "colorway": [
           "#636efa",
           "#EF553B",
           "#00cc96",
           "#ab63fa",
           "#FFA15A",
           "#19d3f3",
           "#FF6692",
           "#B6E880",
           "#FF97FF",
           "#FECB52"
          ],
          "font": {
           "color": "#2a3f5f"
          },
          "geo": {
           "bgcolor": "white",
           "lakecolor": "white",
           "landcolor": "#E5ECF6",
           "showlakes": true,
           "showland": true,
           "subunitcolor": "white"
          },
          "hoverlabel": {
           "align": "left"
          },
          "hovermode": "closest",
          "mapbox": {
           "style": "light"
          },
          "paper_bgcolor": "white",
          "plot_bgcolor": "#E5ECF6",
          "polar": {
           "angularaxis": {
            "gridcolor": "white",
            "linecolor": "white",
            "ticks": ""
           },
           "bgcolor": "#E5ECF6",
           "radialaxis": {
            "gridcolor": "white",
            "linecolor": "white",
            "ticks": ""
           }
          },
          "scene": {
           "xaxis": {
            "backgroundcolor": "#E5ECF6",
            "gridcolor": "white",
            "gridwidth": 2,
            "linecolor": "white",
            "showbackground": true,
            "ticks": "",
            "zerolinecolor": "white"
           },
           "yaxis": {
            "backgroundcolor": "#E5ECF6",
            "gridcolor": "white",
            "gridwidth": 2,
            "linecolor": "white",
            "showbackground": true,
            "ticks": "",
            "zerolinecolor": "white"
           },
           "zaxis": {
            "backgroundcolor": "#E5ECF6",
            "gridcolor": "white",
            "gridwidth": 2,
            "linecolor": "white",
            "showbackground": true,
            "ticks": "",
            "zerolinecolor": "white"
           }
          },
          "shapedefaults": {
           "line": {
            "color": "#2a3f5f"
           }
          },
          "ternary": {
           "aaxis": {
            "gridcolor": "white",
            "linecolor": "white",
            "ticks": ""
           },
           "baxis": {
            "gridcolor": "white",
            "linecolor": "white",
            "ticks": ""
           },
           "bgcolor": "#E5ECF6",
           "caxis": {
            "gridcolor": "white",
            "linecolor": "white",
            "ticks": ""
           }
          },
          "title": {
           "x": 0.05
          },
          "xaxis": {
           "automargin": true,
           "gridcolor": "white",
           "linecolor": "white",
           "ticks": "",
           "title": {
            "standoff": 15
           },
           "zerolinecolor": "white",
           "zerolinewidth": 2
          },
          "yaxis": {
           "automargin": true,
           "gridcolor": "white",
           "linecolor": "white",
           "ticks": "",
           "title": {
            "standoff": 15
           },
           "zerolinecolor": "white",
           "zerolinewidth": 2
          }
         }
        },
        "title": {
         "text": "Metrics by model"
        },
        "xaxis": {
         "title": {
          "text": "Model"
         }
        },
        "yaxis": {
         "title": {
          "text": "Value"
         }
        }
       }
      }
     },
     "metadata": {},
     "output_type": "display_data"
    },
    {
     "data": {
      "text/plain": [
       "<Figure size 1000x600 with 0 Axes>"
      ]
     },
     "metadata": {},
     "output_type": "display_data"
    }
   ],
   "source": [
    "import matplotlib.pyplot as plt\n",
    "import re\n",
    "import plotly.express as px\n",
    "import plotly.graph_objects as go\n",
    "import plotly.io as pio\n",
    "\n",
    "pio.renderers.default='notebook'\n",
    "pd.options.plotting.backend = \"plotly\"\n",
    "\n",
    "plt.figure(figsize=(10, 6))\n",
    "\n",
    "pattern = r'^[^(]*'\n",
    "regex = re.compile(pattern)\n",
    "model_names = [regex.match(str(model)).group() for model in models]\n",
    "\n",
    "\n",
    "traces = []\n",
    "for metric in metrics:\n",
    "    values = [results[model][metric] for model in models]\n",
    "    trace = go.Bar(x=model_names, y=values, name=metric, text=values, textposition='auto')\n",
    "    traces.append(trace)\n",
    "\n",
    "layout = go.Layout(\n",
    "    title='Metrics by model',\n",
    "    xaxis=dict(title='Model'),\n",
    "    yaxis=dict(title='Value'),\n",
    "    barmode='group'\n",
    ")\n",
    "\n",
    "fig = go.Figure(data=traces, layout=layout)\n",
    "fig.show()\n",
    "\n",
    "\n",
    "\n"
   ]
  },
  {
   "attachments": {},
   "cell_type": "markdown",
   "metadata": {},
   "source": [
    "# ` 5 - Investigate source of error `"
   ]
  },
  {
   "attachments": {},
   "cell_type": "markdown",
   "metadata": {},
   "source": [
    "ARI is a metric that test the agreement between clusters and actual labels."
   ]
  },
  {
   "cell_type": "code",
   "execution_count": 82,
   "metadata": {},
   "outputs": [
    {
     "name": "stdout",
     "output_type": "stream",
     "text": [
      "ARI: 0.244\n"
     ]
    }
   ],
   "source": [
    "from sklearn.cluster import KMeans\n",
    "from sklearn.metrics import adjusted_rand_score, adjusted_mutual_info_score\n",
    "\n",
    "KMeans = KMeans(n_clusters=len(np.unique(y_test)), random_state=42)\n",
    "KMeans.fit(X_train)\n",
    "y_pred = KMeans.predict(X_test)\n",
    "\n",
    "ari = adjusted_rand_score(y_test, y_pred)\n",
    "print(f'ARI: {ari:.3f}')\n"
   ]
  },
  {
   "attachments": {},
   "cell_type": "markdown",
   "metadata": {},
   "source": [
    "## Low ARI score imply that the boundaries are not simple to learn. "
   ]
  },
  {
   "attachments": {},
   "cell_type": "markdown",
   "metadata": {},
   "source": [
    "### Let's check what samples were misclassified with respect to the decision boundaries"
   ]
  },
  {
   "cell_type": "code",
   "execution_count": 168,
   "metadata": {},
   "outputs": [
    {
     "data": {
      "text/html": [
       "<div>\n",
       "<style scoped>\n",
       "    .dataframe tbody tr th:only-of-type {\n",
       "        vertical-align: middle;\n",
       "    }\n",
       "\n",
       "    .dataframe tbody tr th {\n",
       "        vertical-align: top;\n",
       "    }\n",
       "\n",
       "    .dataframe thead th {\n",
       "        text-align: right;\n",
       "    }\n",
       "</style>\n",
       "<table border=\"1\" class=\"dataframe\">\n",
       "  <thead>\n",
       "    <tr style=\"text-align: right;\">\n",
       "      <th></th>\n",
       "      <th>index</th>\n",
       "      <th>features</th>\n",
       "      <th>misclassified</th>\n",
       "      <th>prediction</th>\n",
       "      <th>true</th>\n",
       "      <th>predicts_probs</th>\n",
       "      <th>true_probs</th>\n",
       "    </tr>\n",
       "  </thead>\n",
       "  <tbody>\n",
       "    <tr>\n",
       "      <th>45</th>\n",
       "      <td>45</td>\n",
       "      <td>[0.7406188830890889, -1.4582014925495337, -0.5...</td>\n",
       "      <td>True</td>\n",
       "      <td>3</td>\n",
       "      <td>2</td>\n",
       "      <td>0.967799</td>\n",
       "      <td>0.030476</td>\n",
       "    </tr>\n",
       "    <tr>\n",
       "      <th>46</th>\n",
       "      <td>46</td>\n",
       "      <td>[0.7635083471503371, -0.7641063978347392, 1.65...</td>\n",
       "      <td>True</td>\n",
       "      <td>0</td>\n",
       "      <td>3</td>\n",
       "      <td>0.635423</td>\n",
       "      <td>0.363955</td>\n",
       "    </tr>\n",
       "    <tr>\n",
       "      <th>60</th>\n",
       "      <td>60</td>\n",
       "      <td>[-0.1825895007145923, -1.4590155324216276, -0....</td>\n",
       "      <td>True</td>\n",
       "      <td>4</td>\n",
       "      <td>0</td>\n",
       "      <td>0.484305</td>\n",
       "      <td>0.369893</td>\n",
       "    </tr>\n",
       "    <tr>\n",
       "      <th>93</th>\n",
       "      <td>93</td>\n",
       "      <td>[-1.0015236593503647, 1.470834494730949, -0.11...</td>\n",
       "      <td>True</td>\n",
       "      <td>4</td>\n",
       "      <td>1</td>\n",
       "      <td>0.512120</td>\n",
       "      <td>0.472426</td>\n",
       "    </tr>\n",
       "    <tr>\n",
       "      <th>138</th>\n",
       "      <td>138</td>\n",
       "      <td>[-1.5941064511582372, -1.3727711515547565, -0....</td>\n",
       "      <td>True</td>\n",
       "      <td>5</td>\n",
       "      <td>1</td>\n",
       "      <td>0.676700</td>\n",
       "      <td>0.290302</td>\n",
       "    </tr>\n",
       "    <tr>\n",
       "      <th>...</th>\n",
       "      <td>...</td>\n",
       "      <td>...</td>\n",
       "      <td>...</td>\n",
       "      <td>...</td>\n",
       "      <td>...</td>\n",
       "      <td>...</td>\n",
       "      <td>...</td>\n",
       "    </tr>\n",
       "    <tr>\n",
       "      <th>1203</th>\n",
       "      <td>1203</td>\n",
       "      <td>[0.7762247160732528, -0.8116583317191155, 0.65...</td>\n",
       "      <td>True</td>\n",
       "      <td>0</td>\n",
       "      <td>3</td>\n",
       "      <td>0.663424</td>\n",
       "      <td>0.333835</td>\n",
       "    </tr>\n",
       "    <tr>\n",
       "      <th>1204</th>\n",
       "      <td>1204</td>\n",
       "      <td>[0.8601527509644966, 1.8607603525828351, -0.44...</td>\n",
       "      <td>True</td>\n",
       "      <td>3</td>\n",
       "      <td>0</td>\n",
       "      <td>0.979358</td>\n",
       "      <td>0.019528</td>\n",
       "    </tr>\n",
       "    <tr>\n",
       "      <th>1243</th>\n",
       "      <td>1243</td>\n",
       "      <td>[-1.449139845436998, -0.8021479449422403, 1.43...</td>\n",
       "      <td>True</td>\n",
       "      <td>5</td>\n",
       "      <td>1</td>\n",
       "      <td>0.896205</td>\n",
       "      <td>0.008008</td>\n",
       "    </tr>\n",
       "    <tr>\n",
       "      <th>1248</th>\n",
       "      <td>1248</td>\n",
       "      <td>[-1.0498458612574444, -1.4507847832877128, 0.2...</td>\n",
       "      <td>True</td>\n",
       "      <td>1</td>\n",
       "      <td>4</td>\n",
       "      <td>0.818373</td>\n",
       "      <td>0.145544</td>\n",
       "    </tr>\n",
       "    <tr>\n",
       "      <th>1251</th>\n",
       "      <td>1251</td>\n",
       "      <td>[-0.8540137798445423, -0.44075324742098, -0.11...</td>\n",
       "      <td>True</td>\n",
       "      <td>1</td>\n",
       "      <td>4</td>\n",
       "      <td>0.944140</td>\n",
       "      <td>0.055678</td>\n",
       "    </tr>\n",
       "  </tbody>\n",
       "</table>\n",
       "<p>71 rows × 7 columns</p>\n",
       "</div>"
      ],
      "text/plain": [
       "      index                                           features  misclassified  \\\n",
       "45       45  [0.7406188830890889, -1.4582014925495337, -0.5...           True   \n",
       "46       46  [0.7635083471503371, -0.7641063978347392, 1.65...           True   \n",
       "60       60  [-0.1825895007145923, -1.4590155324216276, -0....           True   \n",
       "93       93  [-1.0015236593503647, 1.470834494730949, -0.11...           True   \n",
       "138     138  [-1.5941064511582372, -1.3727711515547565, -0....           True   \n",
       "...     ...                                                ...            ...   \n",
       "1203   1203  [0.7762247160732528, -0.8116583317191155, 0.65...           True   \n",
       "1204   1204  [0.8601527509644966, 1.8607603525828351, -0.44...           True   \n",
       "1243   1243  [-1.449139845436998, -0.8021479449422403, 1.43...           True   \n",
       "1248   1248  [-1.0498458612574444, -1.4507847832877128, 0.2...           True   \n",
       "1251   1251  [-0.8540137798445423, -0.44075324742098, -0.11...           True   \n",
       "\n",
       "      prediction  true  predicts_probs  true_probs  \n",
       "45             3     2        0.967799    0.030476  \n",
       "46             0     3        0.635423    0.363955  \n",
       "60             4     0        0.484305    0.369893  \n",
       "93             4     1        0.512120    0.472426  \n",
       "138            5     1        0.676700    0.290302  \n",
       "...          ...   ...             ...         ...  \n",
       "1203           0     3        0.663424    0.333835  \n",
       "1204           3     0        0.979358    0.019528  \n",
       "1243           5     1        0.896205    0.008008  \n",
       "1248           1     4        0.818373    0.145544  \n",
       "1251           1     4        0.944140    0.055678  \n",
       "\n",
       "[71 rows x 7 columns]"
      ]
     },
     "execution_count": 168,
     "metadata": {},
     "output_type": "execute_result"
    }
   ],
   "source": [
    "y_pred = best_xgb.predict(X_test)\n",
    "\n",
    "misclassified = []\n",
    "i = 0\n",
    "for pred, true in zip(y_pred, y_test):\n",
    "    misclassified.append((i, X_test.iloc[i].to_numpy(), pred != true, pred, true))\n",
    "    i += 1\n",
    "\n",
    "misclassified = pd.DataFrame(misclassified, columns=['index', 'features', 'misclassified', 'prediction', 'true'])\n",
    "misclassified = misclassified[misclassified['misclassified'] == True]\n",
    "x_mis = np.asanyarray(misclassified['features'].to_list())\n",
    "y_probs = best_xgb.predict_proba(x_mis)\n",
    "predicts_probs = y_probs.max(axis=1)\n",
    "true_probs = y_probs[np.arange(len(y_probs)), misclassified['true'].to_numpy()]\n",
    "misclassified['predicts_probs'] = predicts_probs\n",
    "misclassified['true_probs'] = true_probs\n",
    "misclassified"
   ]
  },
  {
   "attachments": {},
   "cell_type": "markdown",
   "metadata": {},
   "source": [
    "### Gently misslcassified"
   ]
  },
  {
   "cell_type": "code",
   "execution_count": 169,
   "metadata": {},
   "outputs": [
    {
     "data": {
      "text/html": [
       "<div>\n",
       "<style scoped>\n",
       "    .dataframe tbody tr th:only-of-type {\n",
       "        vertical-align: middle;\n",
       "    }\n",
       "\n",
       "    .dataframe tbody tr th {\n",
       "        vertical-align: top;\n",
       "    }\n",
       "\n",
       "    .dataframe thead th {\n",
       "        text-align: right;\n",
       "    }\n",
       "</style>\n",
       "<table border=\"1\" class=\"dataframe\">\n",
       "  <thead>\n",
       "    <tr style=\"text-align: right;\">\n",
       "      <th></th>\n",
       "      <th>index</th>\n",
       "      <th>features</th>\n",
       "      <th>misclassified</th>\n",
       "      <th>prediction</th>\n",
       "      <th>true</th>\n",
       "      <th>predicts_probs</th>\n",
       "      <th>true_probs</th>\n",
       "    </tr>\n",
       "  </thead>\n",
       "  <tbody>\n",
       "    <tr>\n",
       "      <th>93</th>\n",
       "      <td>93</td>\n",
       "      <td>[-1.0015236593503647, 1.470834494730949, -0.11...</td>\n",
       "      <td>True</td>\n",
       "      <td>4</td>\n",
       "      <td>1</td>\n",
       "      <td>0.512120</td>\n",
       "      <td>0.472426</td>\n",
       "    </tr>\n",
       "    <tr>\n",
       "      <th>278</th>\n",
       "      <td>278</td>\n",
       "      <td>[0.6236282889982642, -0.7641063978347392, -0.4...</td>\n",
       "      <td>True</td>\n",
       "      <td>3</td>\n",
       "      <td>0</td>\n",
       "      <td>0.504519</td>\n",
       "      <td>0.489071</td>\n",
       "    </tr>\n",
       "    <tr>\n",
       "      <th>394</th>\n",
       "      <td>394</td>\n",
       "      <td>[1.6689138144619362, -1.1635426424635005, 0.21...</td>\n",
       "      <td>True</td>\n",
       "      <td>6</td>\n",
       "      <td>3</td>\n",
       "      <td>0.563177</td>\n",
       "      <td>0.435971</td>\n",
       "    </tr>\n",
       "    <tr>\n",
       "      <th>538</th>\n",
       "      <td>538</td>\n",
       "      <td>[0.6388879317057631, -0.8496998788266166, -0.3...</td>\n",
       "      <td>True</td>\n",
       "      <td>3</td>\n",
       "      <td>0</td>\n",
       "      <td>0.518236</td>\n",
       "      <td>0.479115</td>\n",
       "    </tr>\n",
       "    <tr>\n",
       "      <th>597</th>\n",
       "      <td>597</td>\n",
       "      <td>[-0.7624559235995492, -0.4692844077516058, 0.8...</td>\n",
       "      <td>True</td>\n",
       "      <td>1</td>\n",
       "      <td>4</td>\n",
       "      <td>0.573239</td>\n",
       "      <td>0.425650</td>\n",
       "    </tr>\n",
       "    <tr>\n",
       "      <th>708</th>\n",
       "      <td>708</td>\n",
       "      <td>[1.5086875660331982, 1.565938362499702, -0.779...</td>\n",
       "      <td>True</td>\n",
       "      <td>6</td>\n",
       "      <td>3</td>\n",
       "      <td>0.587497</td>\n",
       "      <td>0.411656</td>\n",
       "    </tr>\n",
       "    <tr>\n",
       "      <th>789</th>\n",
       "      <td>789</td>\n",
       "      <td>[0.8245469179803325, -0.6119402094047349, -0.1...</td>\n",
       "      <td>True</td>\n",
       "      <td>2</td>\n",
       "      <td>3</td>\n",
       "      <td>0.515156</td>\n",
       "      <td>0.483293</td>\n",
       "    </tr>\n",
       "    <tr>\n",
       "      <th>1132</th>\n",
       "      <td>1132</td>\n",
       "      <td>[-1.169379729132852, 1.537407202169076, 1.4330...</td>\n",
       "      <td>True</td>\n",
       "      <td>4</td>\n",
       "      <td>1</td>\n",
       "      <td>0.512918</td>\n",
       "      <td>0.479991</td>\n",
       "    </tr>\n",
       "  </tbody>\n",
       "</table>\n",
       "</div>"
      ],
      "text/plain": [
       "      index                                           features  misclassified  \\\n",
       "93       93  [-1.0015236593503647, 1.470834494730949, -0.11...           True   \n",
       "278     278  [0.6236282889982642, -0.7641063978347392, -0.4...           True   \n",
       "394     394  [1.6689138144619362, -1.1635426424635005, 0.21...           True   \n",
       "538     538  [0.6388879317057631, -0.8496998788266166, -0.3...           True   \n",
       "597     597  [-0.7624559235995492, -0.4692844077516058, 0.8...           True   \n",
       "708     708  [1.5086875660331982, 1.565938362499702, -0.779...           True   \n",
       "789     789  [0.8245469179803325, -0.6119402094047349, -0.1...           True   \n",
       "1132   1132  [-1.169379729132852, 1.537407202169076, 1.4330...           True   \n",
       "\n",
       "      prediction  true  predicts_probs  true_probs  \n",
       "93             4     1        0.512120    0.472426  \n",
       "278            3     0        0.504519    0.489071  \n",
       "394            6     3        0.563177    0.435971  \n",
       "538            3     0        0.518236    0.479115  \n",
       "597            1     4        0.573239    0.425650  \n",
       "708            6     3        0.587497    0.411656  \n",
       "789            2     3        0.515156    0.483293  \n",
       "1132           4     1        0.512918    0.479991  "
      ]
     },
     "execution_count": 169,
     "metadata": {},
     "output_type": "execute_result"
    }
   ],
   "source": [
    "#gently misclassified\n",
    "misclassified.query('true_probs > .4')"
   ]
  },
  {
   "attachments": {},
   "cell_type": "markdown",
   "metadata": {},
   "source": [
    "### Is it a problem of the model or data is noisy?\n"
   ]
  },
  {
   "attachments": {},
   "cell_type": "markdown",
   "metadata": {},
   "source": [
    "More than half of the misslassified samples are missclassified across all models. (` 38 samples !`)<br>\n",
    "This could indicate that some of the misclassified data are just noisy, especially, that many of them are classified as the same class across the 3 models."
   ]
  },
  {
   "cell_type": "code",
   "execution_count": 170,
   "metadata": {},
   "outputs": [
    {
     "name": "stdout",
     "output_type": "stream",
     "text": [
      "Number of troublesome samples: 38\n"
     ]
    },
    {
     "data": {
      "text/html": [
       "<div>\n",
       "<style scoped>\n",
       "    .dataframe tbody tr th:only-of-type {\n",
       "        vertical-align: middle;\n",
       "    }\n",
       "\n",
       "    .dataframe tbody tr th {\n",
       "        vertical-align: top;\n",
       "    }\n",
       "\n",
       "    .dataframe thead th {\n",
       "        text-align: right;\n",
       "    }\n",
       "</style>\n",
       "<table border=\"1\" class=\"dataframe\">\n",
       "  <thead>\n",
       "    <tr style=\"text-align: right;\">\n",
       "      <th></th>\n",
       "      <th>index</th>\n",
       "      <th>features</th>\n",
       "      <th>true</th>\n",
       "      <th>knn</th>\n",
       "      <th>lr</th>\n",
       "      <th>xgb</th>\n",
       "    </tr>\n",
       "  </thead>\n",
       "  <tbody>\n",
       "    <tr>\n",
       "      <th>0</th>\n",
       "      <td>60</td>\n",
       "      <td>[-0.1825895007145923, -1.4590155324216276, -0....</td>\n",
       "      <td>0</td>\n",
       "      <td>[4]</td>\n",
       "      <td>[5]</td>\n",
       "      <td>[4]</td>\n",
       "    </tr>\n",
       "    <tr>\n",
       "      <th>1</th>\n",
       "      <td>138</td>\n",
       "      <td>[-1.5941064511582372, -1.3727711515547565, -0....</td>\n",
       "      <td>1</td>\n",
       "      <td>[5]</td>\n",
       "      <td>[5]</td>\n",
       "      <td>[5]</td>\n",
       "    </tr>\n",
       "    <tr>\n",
       "      <th>2</th>\n",
       "      <td>146</td>\n",
       "      <td>[0.1887284718345466, -1.4572065702152692, 0.10...</td>\n",
       "      <td>3</td>\n",
       "      <td>[0]</td>\n",
       "      <td>[0]</td>\n",
       "      <td>[0]</td>\n",
       "    </tr>\n",
       "    <tr>\n",
       "      <th>3</th>\n",
       "      <td>186</td>\n",
       "      <td>[-1.545784249251157, -1.2776672837860037, 0.10...</td>\n",
       "      <td>1</td>\n",
       "      <td>[5]</td>\n",
       "      <td>[4]</td>\n",
       "      <td>[5]</td>\n",
       "    </tr>\n",
       "    <tr>\n",
       "      <th>4</th>\n",
       "      <td>206</td>\n",
       "      <td>[0.9415375120711572, 0.4151815624977942, -0.22...</td>\n",
       "      <td>2</td>\n",
       "      <td>[3]</td>\n",
       "      <td>[3]</td>\n",
       "      <td>[3]</td>\n",
       "    </tr>\n",
       "    <tr>\n",
       "      <th>5</th>\n",
       "      <td>254</td>\n",
       "      <td>[-0.1902193220683418, -0.7260648507272381, -1....</td>\n",
       "      <td>4</td>\n",
       "      <td>[0]</td>\n",
       "      <td>[5]</td>\n",
       "      <td>[0]</td>\n",
       "    </tr>\n",
       "    <tr>\n",
       "      <th>6</th>\n",
       "      <td>324</td>\n",
       "      <td>[0.4049067435241138, -1.1730530292403758, -0.5...</td>\n",
       "      <td>3</td>\n",
       "      <td>[0]</td>\n",
       "      <td>[0]</td>\n",
       "      <td>[0]</td>\n",
       "    </tr>\n",
       "    <tr>\n",
       "      <th>7</th>\n",
       "      <td>342</td>\n",
       "      <td>[0.3616710891862004, 1.118950183986564, -0.779...</td>\n",
       "      <td>3</td>\n",
       "      <td>[0]</td>\n",
       "      <td>[0]</td>\n",
       "      <td>[0]</td>\n",
       "    </tr>\n",
       "    <tr>\n",
       "      <th>8</th>\n",
       "      <td>377</td>\n",
       "      <td>[-0.2029356909912575, 0.2439946005140393, -1.1...</td>\n",
       "      <td>0</td>\n",
       "      <td>[4]</td>\n",
       "      <td>[4]</td>\n",
       "      <td>[4]</td>\n",
       "    </tr>\n",
       "    <tr>\n",
       "      <th>9</th>\n",
       "      <td>383</td>\n",
       "      <td>[-0.1953058696375081, -0.7070440771734876, -0....</td>\n",
       "      <td>4</td>\n",
       "      <td>[5]</td>\n",
       "      <td>[5]</td>\n",
       "      <td>[5]</td>\n",
       "    </tr>\n",
       "    <tr>\n",
       "      <th>10</th>\n",
       "      <td>472</td>\n",
       "      <td>[0.1760121029116309, 0.4722438831590458, 0.326...</td>\n",
       "      <td>3</td>\n",
       "      <td>[0]</td>\n",
       "      <td>[0]</td>\n",
       "      <td>[0]</td>\n",
       "    </tr>\n",
       "    <tr>\n",
       "      <th>11</th>\n",
       "      <td>587</td>\n",
       "      <td>[-0.052882537700852, -1.3632607647778812, -0.1...</td>\n",
       "      <td>0</td>\n",
       "      <td>[5]</td>\n",
       "      <td>[5]</td>\n",
       "      <td>[5]</td>\n",
       "    </tr>\n",
       "    <tr>\n",
       "      <th>12</th>\n",
       "      <td>598</td>\n",
       "      <td>[1.269619830282383, -0.9733349069259952, -1.44...</td>\n",
       "      <td>6</td>\n",
       "      <td>[0]</td>\n",
       "      <td>[3]</td>\n",
       "      <td>[3]</td>\n",
       "    </tr>\n",
       "    <tr>\n",
       "      <th>13</th>\n",
       "      <td>681</td>\n",
       "      <td>[0.8270901917649157, 1.4042617872928222, -1.00...</td>\n",
       "      <td>3</td>\n",
       "      <td>[0]</td>\n",
       "      <td>[2]</td>\n",
       "      <td>[0]</td>\n",
       "    </tr>\n",
       "    <tr>\n",
       "      <th>14</th>\n",
       "      <td>682</td>\n",
       "      <td>[-0.1876760482837586, -0.9067621994878682, -1....</td>\n",
       "      <td>4</td>\n",
       "      <td>[3]</td>\n",
       "      <td>[5]</td>\n",
       "      <td>[0]</td>\n",
       "    </tr>\n",
       "    <tr>\n",
       "      <th>15</th>\n",
       "      <td>708</td>\n",
       "      <td>[1.5086875660331982, 1.565938362499702, -0.779...</td>\n",
       "      <td>3</td>\n",
       "      <td>[6]</td>\n",
       "      <td>[6]</td>\n",
       "      <td>[6]</td>\n",
       "    </tr>\n",
       "    <tr>\n",
       "      <th>16</th>\n",
       "      <td>710</td>\n",
       "      <td>[-0.2181953336987563, 1.8702707393597104, -0.1...</td>\n",
       "      <td>0</td>\n",
       "      <td>[5]</td>\n",
       "      <td>[5]</td>\n",
       "      <td>[5]</td>\n",
       "    </tr>\n",
       "    <tr>\n",
       "      <th>17</th>\n",
       "      <td>805</td>\n",
       "      <td>[-0.070685454192934, -0.4027117003134789, -0.3...</td>\n",
       "      <td>0</td>\n",
       "      <td>[4]</td>\n",
       "      <td>[5]</td>\n",
       "      <td>[4]</td>\n",
       "    </tr>\n",
       "    <tr>\n",
       "      <th>18</th>\n",
       "      <td>830</td>\n",
       "      <td>[-0.2207386074833395, -1.14452186890975, -1.44...</td>\n",
       "      <td>4</td>\n",
       "      <td>[5]</td>\n",
       "      <td>[0]</td>\n",
       "      <td>[0]</td>\n",
       "    </tr>\n",
       "    <tr>\n",
       "      <th>19</th>\n",
       "      <td>851</td>\n",
       "      <td>[1.241643818651968, -0.9543141333722446, -0.77...</td>\n",
       "      <td>6</td>\n",
       "      <td>[3]</td>\n",
       "      <td>[3]</td>\n",
       "      <td>[3]</td>\n",
       "    </tr>\n",
       "    <tr>\n",
       "      <th>20</th>\n",
       "      <td>855</td>\n",
       "      <td>[0.585479182229517, -0.7641063978347392, 0.326...</td>\n",
       "      <td>3</td>\n",
       "      <td>[0]</td>\n",
       "      <td>[0]</td>\n",
       "      <td>[0]</td>\n",
       "    </tr>\n",
       "    <tr>\n",
       "      <th>21</th>\n",
       "      <td>857</td>\n",
       "      <td>[-0.5437343781253988, -0.6404713697353607, -0....</td>\n",
       "      <td>4</td>\n",
       "      <td>[1]</td>\n",
       "      <td>[1]</td>\n",
       "      <td>[1]</td>\n",
       "    </tr>\n",
       "    <tr>\n",
       "      <th>22</th>\n",
       "      <td>879</td>\n",
       "      <td>[-0.7319366381845515, -1.068438774694748, 1.76...</td>\n",
       "      <td>1</td>\n",
       "      <td>[5]</td>\n",
       "      <td>[4]</td>\n",
       "      <td>[4]</td>\n",
       "    </tr>\n",
       "    <tr>\n",
       "      <th>23</th>\n",
       "      <td>902</td>\n",
       "      <td>[-0.1266374774537632, -1.106480321802249, -0.2...</td>\n",
       "      <td>0</td>\n",
       "      <td>[5]</td>\n",
       "      <td>[5]</td>\n",
       "      <td>[5]</td>\n",
       "    </tr>\n",
       "    <tr>\n",
       "      <th>24</th>\n",
       "      <td>903</td>\n",
       "      <td>[-0.1190076561000137, -0.2885870589909757, 0.9...</td>\n",
       "      <td>4</td>\n",
       "      <td>[0]</td>\n",
       "      <td>[5]</td>\n",
       "      <td>[0]</td>\n",
       "    </tr>\n",
       "    <tr>\n",
       "      <th>25</th>\n",
       "      <td>928</td>\n",
       "      <td>[-1.197355740763267, -0.4787947945284811, -0.2...</td>\n",
       "      <td>4</td>\n",
       "      <td>[1]</td>\n",
       "      <td>[1]</td>\n",
       "      <td>[1]</td>\n",
       "    </tr>\n",
       "    <tr>\n",
       "      <th>26</th>\n",
       "      <td>959</td>\n",
       "      <td>[-0.0783152755466834, -1.115990708579124, -0.2...</td>\n",
       "      <td>0</td>\n",
       "      <td>[5]</td>\n",
       "      <td>[5]</td>\n",
       "      <td>[5]</td>\n",
       "    </tr>\n",
       "    <tr>\n",
       "      <th>27</th>\n",
       "      <td>979</td>\n",
       "      <td>[0.3006325183562049, 1.6895733905990804, -1.44...</td>\n",
       "      <td>4</td>\n",
       "      <td>[0]</td>\n",
       "      <td>[0]</td>\n",
       "      <td>[0]</td>\n",
       "    </tr>\n",
       "    <tr>\n",
       "      <th>28</th>\n",
       "      <td>1001</td>\n",
       "      <td>[-1.4974620473440776, -0.2410351251065993, 0.3...</td>\n",
       "      <td>4</td>\n",
       "      <td>[1]</td>\n",
       "      <td>[1]</td>\n",
       "      <td>[1]</td>\n",
       "    </tr>\n",
       "    <tr>\n",
       "      <th>29</th>\n",
       "      <td>1018</td>\n",
       "      <td>[-0.9252254458128704, -1.3157088308935048, -0....</td>\n",
       "      <td>4</td>\n",
       "      <td>[1]</td>\n",
       "      <td>[1]</td>\n",
       "      <td>[1]</td>\n",
       "    </tr>\n",
       "    <tr>\n",
       "      <th>30</th>\n",
       "      <td>1021</td>\n",
       "      <td>[1.6892600047386015, -0.4978155680822316, 0.76...</td>\n",
       "      <td>3</td>\n",
       "      <td>[6]</td>\n",
       "      <td>[6]</td>\n",
       "      <td>[6]</td>\n",
       "    </tr>\n",
       "    <tr>\n",
       "      <th>31</th>\n",
       "      <td>1092</td>\n",
       "      <td>[-0.5259314616333167, -0.5263467284128575, -0....</td>\n",
       "      <td>4</td>\n",
       "      <td>[1]</td>\n",
       "      <td>[1]</td>\n",
       "      <td>[1]</td>\n",
       "    </tr>\n",
       "    <tr>\n",
       "      <th>32</th>\n",
       "      <td>1106</td>\n",
       "      <td>[-0.2003924172066743, 1.889291512913461, 0.326...</td>\n",
       "      <td>4</td>\n",
       "      <td>[0]</td>\n",
       "      <td>[5]</td>\n",
       "      <td>[5]</td>\n",
       "    </tr>\n",
       "    <tr>\n",
       "      <th>33</th>\n",
       "      <td>1112</td>\n",
       "      <td>[-0.2080222385604238, 1.7276149377065817, 0.43...</td>\n",
       "      <td>0</td>\n",
       "      <td>[5]</td>\n",
       "      <td>[5]</td>\n",
       "      <td>[5]</td>\n",
       "    </tr>\n",
       "    <tr>\n",
       "      <th>34</th>\n",
       "      <td>1156</td>\n",
       "      <td>[1.3433747700352938, -0.3932013135366036, 0.99...</td>\n",
       "      <td>6</td>\n",
       "      <td>[4]</td>\n",
       "      <td>[3]</td>\n",
       "      <td>[3]</td>\n",
       "    </tr>\n",
       "    <tr>\n",
       "      <th>35</th>\n",
       "      <td>1172</td>\n",
       "      <td>[0.6287148365674304, 1.6705526170453298, 0.437...</td>\n",
       "      <td>3</td>\n",
       "      <td>[0]</td>\n",
       "      <td>[0]</td>\n",
       "      <td>[0]</td>\n",
       "    </tr>\n",
       "    <tr>\n",
       "      <th>36</th>\n",
       "      <td>1203</td>\n",
       "      <td>[0.7762247160732528, -0.8116583317191155, 0.65...</td>\n",
       "      <td>3</td>\n",
       "      <td>[0]</td>\n",
       "      <td>[0]</td>\n",
       "      <td>[0]</td>\n",
       "    </tr>\n",
       "    <tr>\n",
       "      <th>37</th>\n",
       "      <td>1243</td>\n",
       "      <td>[-1.449139845436998, -0.8021479449422403, 1.43...</td>\n",
       "      <td>1</td>\n",
       "      <td>[5]</td>\n",
       "      <td>[4]</td>\n",
       "      <td>[5]</td>\n",
       "    </tr>\n",
       "  </tbody>\n",
       "</table>\n",
       "</div>"
      ],
      "text/plain": [
       "    index                                           features  true  knn   lr  \\\n",
       "0      60  [-0.1825895007145923, -1.4590155324216276, -0....     0  [4]  [5]   \n",
       "1     138  [-1.5941064511582372, -1.3727711515547565, -0....     1  [5]  [5]   \n",
       "2     146  [0.1887284718345466, -1.4572065702152692, 0.10...     3  [0]  [0]   \n",
       "3     186  [-1.545784249251157, -1.2776672837860037, 0.10...     1  [5]  [4]   \n",
       "4     206  [0.9415375120711572, 0.4151815624977942, -0.22...     2  [3]  [3]   \n",
       "5     254  [-0.1902193220683418, -0.7260648507272381, -1....     4  [0]  [5]   \n",
       "6     324  [0.4049067435241138, -1.1730530292403758, -0.5...     3  [0]  [0]   \n",
       "7     342  [0.3616710891862004, 1.118950183986564, -0.779...     3  [0]  [0]   \n",
       "8     377  [-0.2029356909912575, 0.2439946005140393, -1.1...     0  [4]  [4]   \n",
       "9     383  [-0.1953058696375081, -0.7070440771734876, -0....     4  [5]  [5]   \n",
       "10    472  [0.1760121029116309, 0.4722438831590458, 0.326...     3  [0]  [0]   \n",
       "11    587  [-0.052882537700852, -1.3632607647778812, -0.1...     0  [5]  [5]   \n",
       "12    598  [1.269619830282383, -0.9733349069259952, -1.44...     6  [0]  [3]   \n",
       "13    681  [0.8270901917649157, 1.4042617872928222, -1.00...     3  [0]  [2]   \n",
       "14    682  [-0.1876760482837586, -0.9067621994878682, -1....     4  [3]  [5]   \n",
       "15    708  [1.5086875660331982, 1.565938362499702, -0.779...     3  [6]  [6]   \n",
       "16    710  [-0.2181953336987563, 1.8702707393597104, -0.1...     0  [5]  [5]   \n",
       "17    805  [-0.070685454192934, -0.4027117003134789, -0.3...     0  [4]  [5]   \n",
       "18    830  [-0.2207386074833395, -1.14452186890975, -1.44...     4  [5]  [0]   \n",
       "19    851  [1.241643818651968, -0.9543141333722446, -0.77...     6  [3]  [3]   \n",
       "20    855  [0.585479182229517, -0.7641063978347392, 0.326...     3  [0]  [0]   \n",
       "21    857  [-0.5437343781253988, -0.6404713697353607, -0....     4  [1]  [1]   \n",
       "22    879  [-0.7319366381845515, -1.068438774694748, 1.76...     1  [5]  [4]   \n",
       "23    902  [-0.1266374774537632, -1.106480321802249, -0.2...     0  [5]  [5]   \n",
       "24    903  [-0.1190076561000137, -0.2885870589909757, 0.9...     4  [0]  [5]   \n",
       "25    928  [-1.197355740763267, -0.4787947945284811, -0.2...     4  [1]  [1]   \n",
       "26    959  [-0.0783152755466834, -1.115990708579124, -0.2...     0  [5]  [5]   \n",
       "27    979  [0.3006325183562049, 1.6895733905990804, -1.44...     4  [0]  [0]   \n",
       "28   1001  [-1.4974620473440776, -0.2410351251065993, 0.3...     4  [1]  [1]   \n",
       "29   1018  [-0.9252254458128704, -1.3157088308935048, -0....     4  [1]  [1]   \n",
       "30   1021  [1.6892600047386015, -0.4978155680822316, 0.76...     3  [6]  [6]   \n",
       "31   1092  [-0.5259314616333167, -0.5263467284128575, -0....     4  [1]  [1]   \n",
       "32   1106  [-0.2003924172066743, 1.889291512913461, 0.326...     4  [0]  [5]   \n",
       "33   1112  [-0.2080222385604238, 1.7276149377065817, 0.43...     0  [5]  [5]   \n",
       "34   1156  [1.3433747700352938, -0.3932013135366036, 0.99...     6  [4]  [3]   \n",
       "35   1172  [0.6287148365674304, 1.6705526170453298, 0.437...     3  [0]  [0]   \n",
       "36   1203  [0.7762247160732528, -0.8116583317191155, 0.65...     3  [0]  [0]   \n",
       "37   1243  [-1.449139845436998, -0.8021479449422403, 1.43...     1  [5]  [4]   \n",
       "\n",
       "    xgb  \n",
       "0   [4]  \n",
       "1   [5]  \n",
       "2   [0]  \n",
       "3   [5]  \n",
       "4   [3]  \n",
       "5   [0]  \n",
       "6   [0]  \n",
       "7   [0]  \n",
       "8   [4]  \n",
       "9   [5]  \n",
       "10  [0]  \n",
       "11  [5]  \n",
       "12  [3]  \n",
       "13  [0]  \n",
       "14  [0]  \n",
       "15  [6]  \n",
       "16  [5]  \n",
       "17  [4]  \n",
       "18  [0]  \n",
       "19  [3]  \n",
       "20  [0]  \n",
       "21  [1]  \n",
       "22  [4]  \n",
       "23  [5]  \n",
       "24  [0]  \n",
       "25  [1]  \n",
       "26  [5]  \n",
       "27  [0]  \n",
       "28  [1]  \n",
       "29  [1]  \n",
       "30  [6]  \n",
       "31  [1]  \n",
       "32  [5]  \n",
       "33  [5]  \n",
       "34  [3]  \n",
       "35  [0]  \n",
       "36  [0]  \n",
       "37  [5]  "
      ]
     },
     "execution_count": 170,
     "metadata": {},
     "output_type": "execute_result"
    }
   ],
   "source": [
    "import warnings\n",
    "warnings.filterwarnings('ignore')\n",
    "X_test_numpy = X_test.to_numpy()\n",
    "troublesome = []\n",
    "for i in range(len(X_test_numpy)):\n",
    "    true_label  = y_test[i]\n",
    "    a = best_knn.predict(X_test_numpy[i].reshape(1, -1))\n",
    "    b = best_LR.predict(X_test_numpy[i].reshape(1, -1))\n",
    "    c = best_xgb.predict(X_test_numpy[i].reshape(1, -1))\n",
    "    if a != true_label and b != true_label and c != true_label:\n",
    "        troublesome.append((i, X_test_numpy[i], true_label, a, b, c))\n",
    "\n",
    "print(f'Number of troublesome samples: {len(troublesome)}')\n",
    "troublesome = pd.DataFrame(troublesome, columns=['index','features', 'true', 'knn', 'lr', 'xgb'])\n",
    "troublesome"
   ]
  },
  {
   "attachments": {},
   "cell_type": "markdown",
   "metadata": {},
   "source": [
    "## Let's check the probs of those troublsome samples"
   ]
  },
  {
   "cell_type": "code",
   "execution_count": 181,
   "metadata": {},
   "outputs": [
    {
     "name": "stdout",
     "output_type": "stream",
     "text": [
      "Number of heavily misclassified: 27\n"
     ]
    },
    {
     "data": {
      "text/html": [
       "<div>\n",
       "<style scoped>\n",
       "    .dataframe tbody tr th:only-of-type {\n",
       "        vertical-align: middle;\n",
       "    }\n",
       "\n",
       "    .dataframe tbody tr th {\n",
       "        vertical-align: top;\n",
       "    }\n",
       "\n",
       "    .dataframe thead th {\n",
       "        text-align: right;\n",
       "    }\n",
       "</style>\n",
       "<table border=\"1\" class=\"dataframe\">\n",
       "  <thead>\n",
       "    <tr style=\"text-align: right;\">\n",
       "      <th></th>\n",
       "      <th>true_probs</th>\n",
       "    </tr>\n",
       "  </thead>\n",
       "  <tbody>\n",
       "    <tr>\n",
       "      <th>3</th>\n",
       "      <td>0.064893</td>\n",
       "    </tr>\n",
       "    <tr>\n",
       "      <th>4</th>\n",
       "      <td>0.000116</td>\n",
       "    </tr>\n",
       "    <tr>\n",
       "      <th>5</th>\n",
       "      <td>0.034070</td>\n",
       "    </tr>\n",
       "    <tr>\n",
       "      <th>7</th>\n",
       "      <td>0.032525</td>\n",
       "    </tr>\n",
       "    <tr>\n",
       "      <th>10</th>\n",
       "      <td>0.053394</td>\n",
       "    </tr>\n",
       "    <tr>\n",
       "      <th>11</th>\n",
       "      <td>0.005019</td>\n",
       "    </tr>\n",
       "    <tr>\n",
       "      <th>12</th>\n",
       "      <td>0.014388</td>\n",
       "    </tr>\n",
       "    <tr>\n",
       "      <th>13</th>\n",
       "      <td>0.010940</td>\n",
       "    </tr>\n",
       "    <tr>\n",
       "      <th>14</th>\n",
       "      <td>0.013100</td>\n",
       "    </tr>\n",
       "    <tr>\n",
       "      <th>16</th>\n",
       "      <td>0.017444</td>\n",
       "    </tr>\n",
       "    <tr>\n",
       "      <th>17</th>\n",
       "      <td>0.003931</td>\n",
       "    </tr>\n",
       "    <tr>\n",
       "      <th>18</th>\n",
       "      <td>0.012193</td>\n",
       "    </tr>\n",
       "    <tr>\n",
       "      <th>19</th>\n",
       "      <td>0.000023</td>\n",
       "    </tr>\n",
       "    <tr>\n",
       "      <th>20</th>\n",
       "      <td>0.080539</td>\n",
       "    </tr>\n",
       "    <tr>\n",
       "      <th>21</th>\n",
       "      <td>0.018196</td>\n",
       "    </tr>\n",
       "    <tr>\n",
       "      <th>22</th>\n",
       "      <td>0.017595</td>\n",
       "    </tr>\n",
       "    <tr>\n",
       "      <th>23</th>\n",
       "      <td>0.021001</td>\n",
       "    </tr>\n",
       "    <tr>\n",
       "      <th>25</th>\n",
       "      <td>0.132883</td>\n",
       "    </tr>\n",
       "    <tr>\n",
       "      <th>26</th>\n",
       "      <td>0.031911</td>\n",
       "    </tr>\n",
       "    <tr>\n",
       "      <th>27</th>\n",
       "      <td>0.164698</td>\n",
       "    </tr>\n",
       "    <tr>\n",
       "      <th>28</th>\n",
       "      <td>0.010550</td>\n",
       "    </tr>\n",
       "    <tr>\n",
       "      <th>29</th>\n",
       "      <td>0.009241</td>\n",
       "    </tr>\n",
       "    <tr>\n",
       "      <th>30</th>\n",
       "      <td>0.189086</td>\n",
       "    </tr>\n",
       "    <tr>\n",
       "      <th>32</th>\n",
       "      <td>0.021253</td>\n",
       "    </tr>\n",
       "    <tr>\n",
       "      <th>33</th>\n",
       "      <td>0.032292</td>\n",
       "    </tr>\n",
       "    <tr>\n",
       "      <th>35</th>\n",
       "      <td>0.012998</td>\n",
       "    </tr>\n",
       "    <tr>\n",
       "      <th>37</th>\n",
       "      <td>0.008008</td>\n",
       "    </tr>\n",
       "  </tbody>\n",
       "</table>\n",
       "</div>"
      ],
      "text/plain": [
       "    true_probs\n",
       "3     0.064893\n",
       "4     0.000116\n",
       "5     0.034070\n",
       "7     0.032525\n",
       "10    0.053394\n",
       "11    0.005019\n",
       "12    0.014388\n",
       "13    0.010940\n",
       "14    0.013100\n",
       "16    0.017444\n",
       "17    0.003931\n",
       "18    0.012193\n",
       "19    0.000023\n",
       "20    0.080539\n",
       "21    0.018196\n",
       "22    0.017595\n",
       "23    0.021001\n",
       "25    0.132883\n",
       "26    0.031911\n",
       "27    0.164698\n",
       "28    0.010550\n",
       "29    0.009241\n",
       "30    0.189086\n",
       "32    0.021253\n",
       "33    0.032292\n",
       "35    0.012998\n",
       "37    0.008008"
      ]
     },
     "execution_count": 181,
     "metadata": {},
     "output_type": "execute_result"
    }
   ],
   "source": [
    "# missclassified entries that have the same features in troublesome\n",
    "trouble_probs= misclassified.merge(troublesome, on='index')[['true_probs']].query('true_probs <.25')\n",
    "print(f'Number of heavily misclassified: {len(trouble_probs)}')\n",
    "trouble_probs\n"
   ]
  },
  {
   "attachments": {},
   "cell_type": "markdown",
   "metadata": {},
   "source": [
    "# ` 6 - Conclusion `"
   ]
  },
  {
   "attachments": {},
   "cell_type": "markdown",
   "metadata": {},
   "source": [
    "I chose Logistic Regression, KNN, and  Xgboost Classifeir to perform on the preprocessed data.\n",
    "At first, they were tuned using 5-fold cross validation. Furthermore, they all were exposed to the same task and performed relatively well on the preprocessed data, however XgBoost classifier showed superiourity with accuracy of 94.43%.\n",
    "<br>\n",
    "<br>\n",
    "To investiage the source of the error, misclassified samples were analyzed and observed to be slightly noisy. This conclusion was reached by counting common misclassified samples across all models. The common misclassified samples across all models were over 50% from the total misclassified by the xgBoost model alone, which shows that some samples were to complex or noisy."
   ]
  }
 ],
 "metadata": {
  "kernelspec": {
   "display_name": "base",
   "language": "python",
   "name": "python3"
  },
  "language_info": {
   "codemirror_mode": {
    "name": "ipython",
    "version": 3
   },
   "file_extension": ".py",
   "mimetype": "text/x-python",
   "name": "python",
   "nbconvert_exporter": "python",
   "pygments_lexer": "ipython3",
   "version": "3.9.12 (main, Apr  5 2022, 01:52:34) \n[Clang 12.0.0 ]"
  },
  "orig_nbformat": 4,
  "vscode": {
   "interpreter": {
    "hash": "3d597f4c481aa0f25dceb95d2a0067e73c0966dcbd003d741d821a7208527ecf"
   }
  }
 },
 "nbformat": 4,
 "nbformat_minor": 2
}
